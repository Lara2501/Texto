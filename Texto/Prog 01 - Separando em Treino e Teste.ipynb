{
 "cells": [
  {
   "cell_type": "markdown",
   "metadata": {},
   "source": [
    "# Separando em Treino e Teste"
   ]
  },
  {
   "cell_type": "markdown",
   "metadata": {},
   "source": [
    "## Caminhos"
   ]
  },
  {
   "cell_type": "code",
   "execution_count": 1,
   "metadata": {},
   "outputs": [],
   "source": [
    "import os\n",
    "\n",
    "#Folder Inicial\n",
    "path = os.getcwd()\n",
    "\n",
    "#Subpastas\n",
    "pathin = path + '\\\\Entrada\\\\'\n",
    "pathfixo = path + '\\\\Fixo\\\\'\n",
    "pathout = path + '\\\\Saida\\\\'\n",
    "pathparcial = path + '\\\\Parcial\\\\'\n",
    "pathaux = path + '\\\\Auxiliar\\\\'"
   ]
  },
  {
   "cell_type": "markdown",
   "metadata": {},
   "source": [
    "## Pacotes"
   ]
  },
  {
   "cell_type": "code",
   "execution_count": 2,
   "metadata": {},
   "outputs": [],
   "source": [
    "import dill\n",
    "import pickle\n",
    "import pandas as pd\n",
    "pd.set_option('max_colwidth', 3000)\n",
    "\n",
    "import numpy as np\n",
    "\n",
    "import nltk\n",
    "from nltk import tokenize\n",
    "from nltk.corpus import stopwords\n",
    "from nltk.stem import RSLPStemmer\n",
    "\n",
    "from time import gmtime, strftime\n",
    "\n",
    "import re\n",
    "\n",
    "from sklearn.model_selection import train_test_split\n",
    "from sklearn.base import BaseEstimator, TransformerMixin\n",
    "from sklearn.pipeline import Pipeline, FeatureUnion\n",
    "from sklearn.model_selection import GridSearchCV\n",
    "\n",
    "import unidecode\n",
    "from unicodedata import normalize\n",
    "\n",
    "import pygtrie"
   ]
  },
  {
   "cell_type": "markdown",
   "metadata": {},
   "source": [
    "## Funcoes"
   ]
  },
  {
   "cell_type": "code",
   "execution_count": 3,
   "metadata": {},
   "outputs": [],
   "source": [
    "with open(pathaux + 'Functions.pickle', 'rb') as f:\n",
    "    rem_acentos, stem, limpa_nomes, PreProcess, dicMeanSd, Scale, NomesEPalavras = dill.load(f)"
   ]
  },
  {
   "cell_type": "markdown",
   "metadata": {},
   "source": [
    "## Lendo a Base"
   ]
  },
  {
   "cell_type": "code",
   "execution_count": 4,
   "metadata": {},
   "outputs": [
    {
     "data": {
      "text/html": [
       "<div>\n",
       "<style scoped>\n",
       "    .dataframe tbody tr th:only-of-type {\n",
       "        vertical-align: middle;\n",
       "    }\n",
       "\n",
       "    .dataframe tbody tr th {\n",
       "        vertical-align: top;\n",
       "    }\n",
       "\n",
       "    .dataframe thead th {\n",
       "        text-align: right;\n",
       "    }\n",
       "</style>\n",
       "<table border=\"1\" class=\"dataframe\">\n",
       "  <thead>\n",
       "    <tr style=\"text-align: right;\">\n",
       "      <th></th>\n",
       "      <th>descricao</th>\n",
       "      <th>linhas</th>\n",
       "    </tr>\n",
       "  </thead>\n",
       "  <tbody>\n",
       "    <tr>\n",
       "      <th>0</th>\n",
       "      <td>Original</td>\n",
       "      <td>14640</td>\n",
       "    </tr>\n",
       "  </tbody>\n",
       "</table>\n",
       "</div>"
      ],
      "text/plain": [
       "  descricao  linhas\n",
       "0  Original   14640"
      ]
     },
     "execution_count": 4,
     "metadata": {},
     "output_type": "execute_result"
    }
   ],
   "source": [
    "data = pd.read_csv(pathin + 'Tweets.csv')\n",
    "\n",
    "#DataFrame com quantidade de Linhas\n",
    "sizes = pd.DataFrame({'descricao': ['Original'], 'linhas': [data.shape[0]]})\n",
    "sizes"
   ]
  },
  {
   "cell_type": "code",
   "execution_count": 5,
   "metadata": {},
   "outputs": [],
   "source": [
    "#data['tweet_id']\n",
    "#data['airline_sentiment'].unique()\n",
    "#data['negativereason'].unique()\n",
    "#data['user_timezone'].unique()\n",
    "#data['retweet_count'].unique()\n",
    "#data['text']"
   ]
  },
  {
   "cell_type": "markdown",
   "metadata": {},
   "source": [
    "# Ajustando Variavel Resposta"
   ]
  },
  {
   "cell_type": "code",
   "execution_count": 6,
   "metadata": {},
   "outputs": [
    {
     "data": {
      "text/plain": [
       "array(['neutral', 'positive', 'negative'], dtype=object)"
      ]
     },
     "execution_count": 6,
     "metadata": {},
     "output_type": "execute_result"
    }
   ],
   "source": [
    "#Ajustando o nome das variaveis\n",
    "data = data.rename(columns = {'tweet_id': 'ido', 'airline_sentiment': 'resposta', 'text': 'texto'})\n",
    "data['resposta'] = data['resposta'].astype(str)\n",
    "data['respostaoriginal'] = data['resposta']\n",
    "data['resposta'].unique()"
   ]
  },
  {
   "cell_type": "code",
   "execution_count": 7,
   "metadata": {},
   "outputs": [
    {
     "data": {
      "text/plain": [
       "array(['neutral', 'positive', 'negative'], dtype=object)"
      ]
     },
     "execution_count": 7,
     "metadata": {},
     "output_type": "execute_result"
    }
   ],
   "source": [
    "#Removendo '\\n' e '\\t',  ficando apenas com letras e numeros\n",
    "\n",
    "vec = [r'\\n', r'\\t', r'[^a-zA-Z0-9]']\n",
    "\n",
    "for i in vec:\n",
    "    data['resposta'] = data['resposta'].apply(lambda x: re.sub(i, ' ', x))\n",
    "\n",
    "    \n",
    "#Removendo Espacos Desnecessarios (duplos, inicio e final de vetor)\n",
    "\n",
    "data['resposta'] = data['resposta'].apply(lambda x: re.sub(r' +', ' ', x))\n",
    "data['resposta'] = data['resposta'].apply(lambda x: x.strip())\n",
    "data['resposta'].unique()"
   ]
  },
  {
   "cell_type": "code",
   "execution_count": 8,
   "metadata": {},
   "outputs": [],
   "source": [
    "###############################################################################\n",
    "#Adicionando Identificador Além do Número de Ocorrência\n",
    "###############################################################################\n",
    "\n",
    "data['id'] = list(range(1, data.shape[0] + 1))\n",
    "\n",
    "data = data[['id', 'ido', 'texto', 'resposta', 'respostaoriginal']]"
   ]
  },
  {
   "cell_type": "code",
   "execution_count": 9,
   "metadata": {},
   "outputs": [
    {
     "data": {
      "text/html": [
       "<div>\n",
       "<style scoped>\n",
       "    .dataframe tbody tr th:only-of-type {\n",
       "        vertical-align: middle;\n",
       "    }\n",
       "\n",
       "    .dataframe tbody tr th {\n",
       "        vertical-align: top;\n",
       "    }\n",
       "\n",
       "    .dataframe thead th {\n",
       "        text-align: right;\n",
       "    }\n",
       "</style>\n",
       "<table border=\"1\" class=\"dataframe\">\n",
       "  <thead>\n",
       "    <tr style=\"text-align: right;\">\n",
       "      <th></th>\n",
       "      <th>id</th>\n",
       "      <th>ido</th>\n",
       "      <th>texto</th>\n",
       "      <th>resposta</th>\n",
       "      <th>respostaoriginal</th>\n",
       "    </tr>\n",
       "  </thead>\n",
       "  <tbody>\n",
       "    <tr>\n",
       "      <th>0</th>\n",
       "      <td>1</td>\n",
       "      <td>570306133677760513</td>\n",
       "      <td>@VirginAmerica What @dhepburn said.</td>\n",
       "      <td>neutral</td>\n",
       "      <td>neutral</td>\n",
       "    </tr>\n",
       "  </tbody>\n",
       "</table>\n",
       "</div>"
      ],
      "text/plain": [
       "   id                 ido                                texto resposta  \\\n",
       "0   1  570306133677760513  @VirginAmerica What @dhepburn said.  neutral   \n",
       "\n",
       "  respostaoriginal  \n",
       "0          neutral  "
      ]
     },
     "execution_count": 9,
     "metadata": {},
     "output_type": "execute_result"
    }
   ],
   "source": [
    "###############################################################################\n",
    "#Eliminando as linhas que nao tem variavel resposta\n",
    "###############################################################################\n",
    "\n",
    "data = data.dropna(subset = ['resposta'])\n",
    "\n",
    "sizes = sizes.append({'descricao': 'Excluindo resposta NA', 'linhas': data.shape[0]}, ignore_index = True)\n",
    "\n",
    "#NA para ''\n",
    "data = data.fillna('')\n",
    "data.head(1)"
   ]
  },
  {
   "cell_type": "code",
   "execution_count": 10,
   "metadata": {},
   "outputs": [],
   "source": [
    "###############################################################################\n",
    "#Eliminando linhas com menos de x caracteres\n",
    "###############################################################################\n",
    "\n",
    "minchar = 10\n",
    "\n",
    "desc = 'Excluindo Linhas de Textos com Menos de ' + str(minchar) + ' caracteres'\n",
    "\n",
    "data['nchar'] = data['texto'].apply(len)\n",
    "data = data[data['nchar'] >= minchar]\n",
    "sizes = sizes.append({'descricao': desc, 'linhas': data.shape[0]}, ignore_index = True)"
   ]
  },
  {
   "cell_type": "code",
   "execution_count": 11,
   "metadata": {},
   "outputs": [
    {
     "data": {
      "text/html": [
       "<div>\n",
       "<style scoped>\n",
       "    .dataframe tbody tr th:only-of-type {\n",
       "        vertical-align: middle;\n",
       "    }\n",
       "\n",
       "    .dataframe tbody tr th {\n",
       "        vertical-align: top;\n",
       "    }\n",
       "\n",
       "    .dataframe thead th {\n",
       "        text-align: right;\n",
       "    }\n",
       "</style>\n",
       "<table border=\"1\" class=\"dataframe\">\n",
       "  <thead>\n",
       "    <tr style=\"text-align: right;\">\n",
       "      <th></th>\n",
       "      <th>descricao</th>\n",
       "      <th>linhas</th>\n",
       "    </tr>\n",
       "  </thead>\n",
       "  <tbody>\n",
       "    <tr>\n",
       "      <th>0</th>\n",
       "      <td>Original</td>\n",
       "      <td>14640</td>\n",
       "    </tr>\n",
       "    <tr>\n",
       "      <th>1</th>\n",
       "      <td>Excluindo resposta NA</td>\n",
       "      <td>14640</td>\n",
       "    </tr>\n",
       "    <tr>\n",
       "      <th>2</th>\n",
       "      <td>Excluindo Linhas de Textos com Menos de 10 caracteres</td>\n",
       "      <td>14640</td>\n",
       "    </tr>\n",
       "    <tr>\n",
       "      <th>3</th>\n",
       "      <td>Eliminando Ultima Linha Quando ido, texto e resposta sao repetidos</td>\n",
       "      <td>14503</td>\n",
       "    </tr>\n",
       "  </tbody>\n",
       "</table>\n",
       "</div>"
      ],
      "text/plain": [
       "                                                            descricao  linhas\n",
       "0                                                            Original   14640\n",
       "1                                               Excluindo resposta NA   14640\n",
       "2               Excluindo Linhas de Textos com Menos de 10 caracteres   14640\n",
       "3  Eliminando Ultima Linha Quando ido, texto e resposta sao repetidos   14503"
      ]
     },
     "execution_count": 11,
     "metadata": {},
     "output_type": "execute_result"
    }
   ],
   "source": [
    "###############################################################################\n",
    "#Eliminando Textos Duplicados\n",
    "###############################################################################\n",
    "\n",
    "#Eliminando uma das linhas quando existe duplicacao de ido, texto e resposta\n",
    "\n",
    "data = data.sort_values(by = ['ido'], ascending = False, na_position = 'first')\n",
    "data.drop_duplicates(subset = ['ido', 'texto', 'resposta'], keep = 'last', inplace = True)\n",
    "\n",
    "sizes = sizes.append({'descricao': 'Eliminando Ultima Linha Quando ido, texto e resposta sao repetidos', 'linhas': data.shape[0]}, ignore_index = True)\n",
    "\n",
    "sizes"
   ]
  },
  {
   "cell_type": "markdown",
   "metadata": {},
   "source": [
    "# Parte nao usada no teste: contagem"
   ]
  },
  {
   "cell_type": "code",
   "execution_count": 12,
   "metadata": {},
   "outputs": [
    {
     "data": {
      "text/html": [
       "<div>\n",
       "<style scoped>\n",
       "    .dataframe tbody tr th:only-of-type {\n",
       "        vertical-align: middle;\n",
       "    }\n",
       "\n",
       "    .dataframe tbody tr th {\n",
       "        vertical-align: top;\n",
       "    }\n",
       "\n",
       "    .dataframe thead th {\n",
       "        text-align: right;\n",
       "    }\n",
       "</style>\n",
       "<table border=\"1\" class=\"dataframe\">\n",
       "  <thead>\n",
       "    <tr style=\"text-align: right;\">\n",
       "      <th></th>\n",
       "      <th>resposta</th>\n",
       "      <th>tabfreq</th>\n",
       "      <th>tabfreqrelativa</th>\n",
       "    </tr>\n",
       "  </thead>\n",
       "  <tbody>\n",
       "    <tr>\n",
       "      <th>0</th>\n",
       "      <td>negative</td>\n",
       "      <td>9089</td>\n",
       "      <td>0.626698</td>\n",
       "    </tr>\n",
       "    <tr>\n",
       "      <th>1</th>\n",
       "      <td>neutral</td>\n",
       "      <td>3074</td>\n",
       "      <td>0.211956</td>\n",
       "    </tr>\n",
       "    <tr>\n",
       "      <th>2</th>\n",
       "      <td>positive</td>\n",
       "      <td>2340</td>\n",
       "      <td>0.161346</td>\n",
       "    </tr>\n",
       "  </tbody>\n",
       "</table>\n",
       "</div>"
      ],
      "text/plain": [
       "   resposta  tabfreq  tabfreqrelativa\n",
       "0  negative     9089         0.626698\n",
       "1   neutral     3074         0.211956\n",
       "2  positive     2340         0.161346"
      ]
     },
     "execution_count": 12,
     "metadata": {},
     "output_type": "execute_result"
    }
   ],
   "source": [
    "freq = data.groupby(['resposta']).size().reset_index(name = 'tabfreq')\n",
    "freq = freq.sort_values(by = ['tabfreq'], ascending = False)\n",
    "freq['tabfreqrelativa'] = freq['tabfreq'] / data.shape[0]\n",
    "freq = freq[['resposta', 'tabfreq', 'tabfreqrelativa']]\n",
    "freq.to_excel(pathparcial + 'Frequencia Respostas Desagrupadas.xlsx', encoding = 'latin1', index = False)\n",
    "freq"
   ]
  },
  {
   "cell_type": "code",
   "execution_count": 13,
   "metadata": {},
   "outputs": [
    {
     "data": {
      "text/html": [
       "<div>\n",
       "<style scoped>\n",
       "    .dataframe tbody tr th:only-of-type {\n",
       "        vertical-align: middle;\n",
       "    }\n",
       "\n",
       "    .dataframe tbody tr th {\n",
       "        vertical-align: top;\n",
       "    }\n",
       "\n",
       "    .dataframe thead th {\n",
       "        text-align: right;\n",
       "    }\n",
       "</style>\n",
       "<table border=\"1\" class=\"dataframe\">\n",
       "  <thead>\n",
       "    <tr style=\"text-align: right;\">\n",
       "      <th></th>\n",
       "      <th>resposta</th>\n",
       "      <th>tabfreq</th>\n",
       "      <th>tabfreqrelativa</th>\n",
       "      <th>respcod</th>\n",
       "    </tr>\n",
       "  </thead>\n",
       "  <tbody>\n",
       "    <tr>\n",
       "      <th>0</th>\n",
       "      <td>negative</td>\n",
       "      <td>9089</td>\n",
       "      <td>0.626698</td>\n",
       "      <td>L000</td>\n",
       "    </tr>\n",
       "    <tr>\n",
       "      <th>1</th>\n",
       "      <td>neutral</td>\n",
       "      <td>3074</td>\n",
       "      <td>0.211956</td>\n",
       "      <td>L001</td>\n",
       "    </tr>\n",
       "    <tr>\n",
       "      <th>2</th>\n",
       "      <td>positive</td>\n",
       "      <td>2340</td>\n",
       "      <td>0.161346</td>\n",
       "      <td>L002</td>\n",
       "    </tr>\n",
       "  </tbody>\n",
       "</table>\n",
       "</div>"
      ],
      "text/plain": [
       "   resposta  tabfreq  tabfreqrelativa respcod\n",
       "0  negative     9089         0.626698    L000\n",
       "1   neutral     3074         0.211956    L001\n",
       "2  positive     2340         0.161346    L002"
      ]
     },
     "execution_count": 13,
     "metadata": {},
     "output_type": "execute_result"
    }
   ],
   "source": [
    "freq = freq.reset_index(drop = True)\n",
    "freq['respcod'] = 'L' + pd.Series(freq.index).astype(str).str.zfill(3)\n",
    "freq.to_excel(pathparcial + 'Frequencia Respostas Desagrupadas com Codigo.xlsx', \n",
    "              encoding = 'latin1', index = False)\n",
    "freq"
   ]
  },
  {
   "cell_type": "code",
   "execution_count": 14,
   "metadata": {
    "scrolled": true
   },
   "outputs": [],
   "source": [
    "#Merge da tabela de dados com a de frequencias\n",
    "data = pd.merge(data, freq, how = 'left', left_on = 'resposta', right_on = 'resposta')"
   ]
  },
  {
   "cell_type": "code",
   "execution_count": 15,
   "metadata": {},
   "outputs": [
    {
     "name": "stderr",
     "output_type": "stream",
     "text": [
      "C:\\Users\\laran\\Anaconda3\\lib\\site-packages\\ipykernel_launcher.py:5: SettingWithCopyWarning: \n",
      "A value is trying to be set on a copy of a slice from a DataFrame\n",
      "\n",
      "See the caveats in the documentation: http://pandas.pydata.org/pandas-docs/stable/indexing.html#indexing-view-versus-copy\n",
      "  \"\"\"\n",
      "C:\\Users\\laran\\Anaconda3\\lib\\site-packages\\ipykernel_launcher.py:7: SettingWithCopyWarning: \n",
      "A value is trying to be set on a copy of a slice from a DataFrame\n",
      "\n",
      "See the caveats in the documentation: http://pandas.pydata.org/pandas-docs/stable/indexing.html#indexing-view-versus-copy\n",
      "  import sys\n"
     ]
    },
    {
     "data": {
      "text/plain": [
       "(3, 3)"
      ]
     },
     "execution_count": 15,
     "metadata": {},
     "output_type": "execute_result"
    }
   ],
   "source": [
    "#Equivalencia de Respostas\n",
    "respequiv = data[['respostaoriginal', 'resposta', 'respcod']]\n",
    "\n",
    "#Eliminando uma das linhas quando existe duplicacao\n",
    "respequiv.drop_duplicates(subset = ['respostaoriginal', 'resposta'], keep = 'first', inplace = True)\n",
    "\n",
    "respequiv.sort_values(by = ['respcod'], ascending = True, na_position = 'last', inplace = True)\n",
    "\n",
    "freq.to_excel(pathparcial + 'Equivalencia de Respostas Completo.xlsx', encoding = 'latin1', index = False)\n",
    "\n",
    "respequiv.shape"
   ]
  },
  {
   "cell_type": "markdown",
   "metadata": {},
   "source": [
    "# Criando novo nome para variavel resposta (se quiser reduzir categorias)"
   ]
  },
  {
   "cell_type": "code",
   "execution_count": 16,
   "metadata": {},
   "outputs": [],
   "source": [
    "#Minimo de Caracteres\n",
    "minobs = 50\n",
    "#Frequencia Relativa Minima\n",
    "minfreq = 1/100"
   ]
  },
  {
   "cell_type": "code",
   "execution_count": 17,
   "metadata": {},
   "outputs": [
    {
     "data": {
      "text/plain": [
       "(3, 3)"
      ]
     },
     "execution_count": 17,
     "metadata": {},
     "output_type": "execute_result"
    }
   ],
   "source": [
    "#Marcando Outros\n",
    "data['respostafinal'] = np.where((data['tabfreq'] >= minobs) & (data['tabfreqrelativa'] > minfreq), data['respcod'], 'AgrupOutros')\n",
    "\n",
    "#Equivalencia de respostas agrupadas\n",
    "\n",
    "#\n",
    "respequiv = data[['respostaoriginal', 'resposta', 'respostafinal']]\n",
    "\n",
    "respequiv = respequiv[respequiv['respostafinal'] != 'AgrupOutros']\n",
    "\n",
    "#Eliminando uma das linhas quando existe duplicacao\n",
    "respequiv.drop_duplicates(subset = ['respostaoriginal', 'resposta', 'respostafinal'], keep = 'first', inplace = True)\n",
    "\n",
    "respequiv.sort_values(by = ['respostafinal', 'resposta', 'respostaoriginal'], ascending = True, na_position = 'last', inplace = True)\n",
    "\n",
    "respequiv.to_excel(pathparcial + 'Linhas com Codigo.xlsx', encoding = 'latin1', index = False)\n",
    "respequiv.to_pickle(pathaux + 'Linhas com Codigo.pkl')\n",
    "\n",
    "respequiv.shape"
   ]
  },
  {
   "cell_type": "code",
   "execution_count": 18,
   "metadata": {},
   "outputs": [
    {
     "data": {
      "text/html": [
       "<div>\n",
       "<style scoped>\n",
       "    .dataframe tbody tr th:only-of-type {\n",
       "        vertical-align: middle;\n",
       "    }\n",
       "\n",
       "    .dataframe tbody tr th {\n",
       "        vertical-align: top;\n",
       "    }\n",
       "\n",
       "    .dataframe thead th {\n",
       "        text-align: right;\n",
       "    }\n",
       "</style>\n",
       "<table border=\"1\" class=\"dataframe\">\n",
       "  <thead>\n",
       "    <tr style=\"text-align: right;\">\n",
       "      <th></th>\n",
       "      <th>descricao</th>\n",
       "      <th>linhas</th>\n",
       "    </tr>\n",
       "  </thead>\n",
       "  <tbody>\n",
       "    <tr>\n",
       "      <th>0</th>\n",
       "      <td>Original</td>\n",
       "      <td>14640</td>\n",
       "    </tr>\n",
       "    <tr>\n",
       "      <th>1</th>\n",
       "      <td>Excluindo resposta NA</td>\n",
       "      <td>14640</td>\n",
       "    </tr>\n",
       "    <tr>\n",
       "      <th>2</th>\n",
       "      <td>Excluindo Linhas de Textos com Menos de 10 caracteres</td>\n",
       "      <td>14640</td>\n",
       "    </tr>\n",
       "    <tr>\n",
       "      <th>3</th>\n",
       "      <td>Eliminando Ultima Linha Quando ido, texto e resposta sao repetidos</td>\n",
       "      <td>14503</td>\n",
       "    </tr>\n",
       "    <tr>\n",
       "      <th>4</th>\n",
       "      <td>Full</td>\n",
       "      <td>14503</td>\n",
       "    </tr>\n",
       "  </tbody>\n",
       "</table>\n",
       "</div>"
      ],
      "text/plain": [
       "                                                            descricao  linhas\n",
       "0                                                            Original   14640\n",
       "1                                               Excluindo resposta NA   14640\n",
       "2               Excluindo Linhas de Textos com Menos de 10 caracteres   14640\n",
       "3  Eliminando Ultima Linha Quando ido, texto e resposta sao repetidos   14503\n",
       "4                                                                Full   14503"
      ]
     },
     "execution_count": 18,
     "metadata": {},
     "output_type": "execute_result"
    }
   ],
   "source": [
    "data = data[['ido', 'id', 'respostafinal', 'resposta', 'nchar', 'texto']]\n",
    "\n",
    "sizes = sizes.append({'descricao': 'Full', 'linhas': data.shape[0]}, ignore_index = True)\n",
    "\n",
    "sizes"
   ]
  },
  {
   "cell_type": "markdown",
   "metadata": {},
   "source": [
    "# Separando em Treino e Teste"
   ]
  },
  {
   "cell_type": "code",
   "execution_count": 19,
   "metadata": {},
   "outputs": [],
   "source": [
    "y = data['respostafinal']\n",
    "X = data.drop(columns = ['respostafinal'])\n",
    "\n",
    "X_train, X_test, y_train, y_test = train_test_split(X, y, stratify = y, test_size = 0.25, random_state = 123)\n",
    "\n",
    "sizes = sizes.append({'descricao': 'Treino', 'linhas': X_train.shape[0]}, ignore_index = True)\n",
    "sizes = sizes.append({'descricao': 'Teste', 'linhas': X_test.shape[0]}, ignore_index = True)\n",
    "\n",
    "train = pd.merge(X_train, pd.DataFrame(y_train), left_index = True, right_index = True)\n",
    "teste = pd.merge(X_test, pd.DataFrame(y_test), left_index = True, right_index = True)"
   ]
  },
  {
   "cell_type": "markdown",
   "metadata": {},
   "source": [
    "## Salvando Bases"
   ]
  },
  {
   "cell_type": "code",
   "execution_count": 20,
   "metadata": {},
   "outputs": [],
   "source": [
    "train.to_pickle(pathparcial + 'Arquivo0 Treino.pkl')\n",
    "teste.to_pickle(pathparcial + 'Arquivo0 Teste.pkl')\n",
    "\n",
    "data.to_excel(pathparcial + 'Arquivo0.xlsx', encoding = 'latin1', index = False)\n",
    "sizes.to_excel(pathout + 'Tamanhos.xlsx', encoding = 'latin1', index = False)"
   ]
  }
 ],
 "metadata": {
  "kernelspec": {
   "display_name": "Python 3",
   "language": "python",
   "name": "python3"
  },
  "language_info": {
   "codemirror_mode": {
    "name": "ipython",
    "version": 3
   },
   "file_extension": ".py",
   "mimetype": "text/x-python",
   "name": "python",
   "nbconvert_exporter": "python",
   "pygments_lexer": "ipython3",
   "version": "3.7.0"
  }
 },
 "nbformat": 4,
 "nbformat_minor": 2
}
