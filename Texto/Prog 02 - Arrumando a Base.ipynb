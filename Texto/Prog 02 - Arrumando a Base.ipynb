{
 "cells": [
  {
   "cell_type": "markdown",
   "metadata": {},
   "source": [
    "# Rodando Modelo"
   ]
  },
  {
   "cell_type": "markdown",
   "metadata": {},
   "source": [
    "## Caminhos"
   ]
  },
  {
   "cell_type": "code",
   "execution_count": 1,
   "metadata": {},
   "outputs": [],
   "source": [
    "import os\n",
    "\n",
    "#Folder Inicial\n",
    "path = os.getcwd()\n",
    "\n",
    "#Subpastas\n",
    "pathin = path + '\\\\Entrada\\\\'\n",
    "pathfixo = path + '\\\\Fixo\\\\'\n",
    "pathout = path + '\\\\Saida\\\\'\n",
    "pathparcial = path + '\\\\Parcial\\\\'\n",
    "pathaux = path + '\\\\Auxiliar\\\\'"
   ]
  },
  {
   "cell_type": "markdown",
   "metadata": {},
   "source": [
    "## Pacotes"
   ]
  },
  {
   "cell_type": "code",
   "execution_count": 2,
   "metadata": {},
   "outputs": [],
   "source": [
    "import dill\n",
    "import pickle\n",
    "import pandas as pd\n",
    "pd.set_option('max_colwidth', 3000)\n",
    "\n",
    "import numpy as np\n",
    "\n",
    "from unicodedata import normalize\n",
    "from time import gmtime, strftime\n",
    "import pygtrie\n",
    "import re"
   ]
  },
  {
   "cell_type": "markdown",
   "metadata": {},
   "source": [
    "## Funcoes"
   ]
  },
  {
   "cell_type": "code",
   "execution_count": 3,
   "metadata": {},
   "outputs": [],
   "source": [
    "with open(pathaux + 'Functions.pickle', 'rb') as f:\n",
    "    rem_acentos, stem, limpa_nomes, PreProcess, dicMeanSd, Scale, NomesEPalavras = dill.load(f)"
   ]
  },
  {
   "cell_type": "markdown",
   "metadata": {},
   "source": [
    "## Lendo as bases"
   ]
  },
  {
   "cell_type": "code",
   "execution_count": 4,
   "metadata": {},
   "outputs": [],
   "source": [
    "file = 'Treino'\n",
    "treino = pd.read_pickle(pathparcial + 'Arquivo0 ' + file + '.pkl')\n",
    "\n",
    "file = 'Teste'\n",
    "teste = pd.read_pickle(pathparcial + 'Arquivo0 ' + file + '.pkl')"
   ]
  },
  {
   "cell_type": "markdown",
   "metadata": {},
   "source": [
    "## Base de Treino"
   ]
  },
  {
   "cell_type": "code",
   "execution_count": 5,
   "metadata": {},
   "outputs": [
    {
     "name": "stdout",
     "output_type": "stream",
     "text": [
      "Fim da Remocao de Acentos\n",
      "2019-05-12 01:31:30\n",
      "Fim da Remocao de Nomes\n",
      "2019-05-12 01:31:34\n",
      "Fim da Remocao de Palavras Curtas e Longas\n",
      "2019-05-12 01:31:34\n",
      "Fim da Contagem de Palavras\n",
      "2019-05-12 01:31:35\n",
      "(10877, 11)\n"
     ]
    }
   ],
   "source": [
    "name = 'Treino'\n",
    "\n",
    "data = PreProcess(data = treino, textcol = 'texto', maxchar = 15, minchar = 3, wordstoremove = NomesEPalavras)\n",
    "\n",
    "####################################################################################\n",
    "#Padronizando as variaveis continuas\n",
    "variables = ['length', 'words', 'avg_word_length', 'min_word_length', 'max_word_length']\n",
    "\n",
    "#Nao usa no teste\n",
    "dic = dicMeanSd(data = data, variables = variables)\n",
    "\n",
    "with open(pathaux + 'Dictionary.pickle', 'wb') as f:\n",
    "    dill.dump((variables, dic), f)\n",
    "####################################################################################\n",
    "\n",
    "data = Scale(data = data, variables = variables, dic = dic)\n",
    "\n",
    "data.to_pickle(pathparcial + 'Arquivo1 ' + name + '.pkl')\n",
    "\n",
    "print(data.shape)\n",
    "#del data"
   ]
  },
  {
   "cell_type": "markdown",
   "metadata": {},
   "source": [
    "## Base de Teste"
   ]
  },
  {
   "cell_type": "code",
   "execution_count": 6,
   "metadata": {
    "scrolled": false
   },
   "outputs": [
    {
     "name": "stdout",
     "output_type": "stream",
     "text": [
      "Fim da Remocao de Acentos\n",
      "2019-05-12 01:31:35\n",
      "Fim da Remocao de Nomes\n",
      "2019-05-12 01:31:36\n",
      "Fim da Remocao de Palavras Curtas e Longas\n",
      "2019-05-12 01:31:36\n",
      "Fim da Contagem de Palavras\n",
      "2019-05-12 01:31:36\n"
     ]
    },
    {
     "data": {
      "text/plain": [
       "(3626, 11)"
      ]
     },
     "execution_count": 6,
     "metadata": {},
     "output_type": "execute_result"
    }
   ],
   "source": [
    "name = 'Teste'\n",
    "data = PreProcess(data = teste, textcol = 'texto', maxchar = 15, minchar = 3, wordstoremove = NomesEPalavras)\n",
    "\n",
    "####################################################################################\n",
    "with open(pathaux + 'Dictionary.pickle', 'rb') as f:\n",
    "    variables, dic = dill.load(f)\n",
    "####################################################################################\n",
    "\n",
    "data = Scale(data = data, variables = variables, dic = dic)\n",
    "\n",
    "data.to_pickle(pathparcial + 'Arquivo1 ' + name + '.pkl')\n",
    "\n",
    "data.shape"
   ]
  }
 ],
 "metadata": {
  "kernelspec": {
   "display_name": "Python 3",
   "language": "python",
   "name": "python3"
  },
  "language_info": {
   "codemirror_mode": {
    "name": "ipython",
    "version": 3
   },
   "file_extension": ".py",
   "mimetype": "text/x-python",
   "name": "python",
   "nbconvert_exporter": "python",
   "pygments_lexer": "ipython3",
   "version": "3.7.0"
  }
 },
 "nbformat": 4,
 "nbformat_minor": 2
}
